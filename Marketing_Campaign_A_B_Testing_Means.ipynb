{
  "nbformat": 4,
  "nbformat_minor": 0,
  "metadata": {
    "colab": {
      "provenance": [],
      "include_colab_link": true
    },
    "kernelspec": {
      "name": "python3",
      "display_name": "Python 3"
    },
    "language_info": {
      "name": "python"
    }
  },
  "cells": [
    {
      "cell_type": "markdown",
      "metadata": {
        "id": "view-in-github",
        "colab_type": "text"
      },
      "source": [
        "<a href=\"https://colab.research.google.com/github/BessieXuOrange/Data-Analysis/blob/main/Marketing_Campaign_A_B_Testing_Means.ipynb\" target=\"_parent\"><img src=\"https://colab.research.google.com/assets/colab-badge.svg\" alt=\"Open In Colab\"/></a>"
      ]
    },
    {
      "cell_type": "markdown",
      "source": [
        "# **A/B Testing Scenario - Means**\n",
        "\n",
        "The search team at Amazon conducts an experiment aimed at assessing the effectiveness of a new sponsored search ranking algorithm. This algorithm's purpose is to enhance the precision of product suggestions for customers. How would you evaluate the effectiveness of the new sponsored search ranking algorithm?"
      ],
      "metadata": {
        "id": "xzXXtXpXt5sZ"
      }
    },
    {
      "cell_type": "markdown",
      "source": [
        "# **Part I: Upload Data and Turn Data into DF**\n"
      ],
      "metadata": {
        "id": "oD8MPExj1ShR"
      }
    },
    {
      "cell_type": "code",
      "source": [
        "import io\n",
        "import pandas as pd\n",
        "from google.colab import files\n",
        "from statsmodels.stats.power import ttest_power, tt_ind_solve_power\n",
        "from statsmodels.stats.weightstats import ttest_ind\n",
        "import statsmodels.api as sm\n",
        "import statsmodels.stats.api as sms\n",
        "import scipy.stats as stats\n",
        "import matplotlib.pyplot as plt\n",
        "import numpy as np\n",
        "import math"
      ],
      "metadata": {
        "id": "fzNtxRrdPaPC"
      },
      "execution_count": null,
      "outputs": []
    },
    {
      "cell_type": "code",
      "execution_count": null,
      "metadata": {
        "id": "s9wYvRUCj0hF",
        "colab": {
          "base_uri": "https://localhost:8080/",
          "height": 73
        },
        "outputId": "6e11fe2c-9cb9-44e1-b1e3-7a78d3b561b4"
      },
      "outputs": [
        {
          "output_type": "display_data",
          "data": {
            "text/plain": [
              "<IPython.core.display.HTML object>"
            ],
            "text/html": [
              "\n",
              "     <input type=\"file\" id=\"files-1dab70e6-ab10-4267-a8a2-bdce7541886a\" name=\"files[]\" multiple disabled\n",
              "        style=\"border:none\" />\n",
              "     <output id=\"result-1dab70e6-ab10-4267-a8a2-bdce7541886a\">\n",
              "      Upload widget is only available when the cell has been executed in the\n",
              "      current browser session. Please rerun this cell to enable.\n",
              "      </output>\n",
              "      <script>// Copyright 2017 Google LLC\n",
              "//\n",
              "// Licensed under the Apache License, Version 2.0 (the \"License\");\n",
              "// you may not use this file except in compliance with the License.\n",
              "// You may obtain a copy of the License at\n",
              "//\n",
              "//      http://www.apache.org/licenses/LICENSE-2.0\n",
              "//\n",
              "// Unless required by applicable law or agreed to in writing, software\n",
              "// distributed under the License is distributed on an \"AS IS\" BASIS,\n",
              "// WITHOUT WARRANTIES OR CONDITIONS OF ANY KIND, either express or implied.\n",
              "// See the License for the specific language governing permissions and\n",
              "// limitations under the License.\n",
              "\n",
              "/**\n",
              " * @fileoverview Helpers for google.colab Python module.\n",
              " */\n",
              "(function(scope) {\n",
              "function span(text, styleAttributes = {}) {\n",
              "  const element = document.createElement('span');\n",
              "  element.textContent = text;\n",
              "  for (const key of Object.keys(styleAttributes)) {\n",
              "    element.style[key] = styleAttributes[key];\n",
              "  }\n",
              "  return element;\n",
              "}\n",
              "\n",
              "// Max number of bytes which will be uploaded at a time.\n",
              "const MAX_PAYLOAD_SIZE = 100 * 1024;\n",
              "\n",
              "function _uploadFiles(inputId, outputId) {\n",
              "  const steps = uploadFilesStep(inputId, outputId);\n",
              "  const outputElement = document.getElementById(outputId);\n",
              "  // Cache steps on the outputElement to make it available for the next call\n",
              "  // to uploadFilesContinue from Python.\n",
              "  outputElement.steps = steps;\n",
              "\n",
              "  return _uploadFilesContinue(outputId);\n",
              "}\n",
              "\n",
              "// This is roughly an async generator (not supported in the browser yet),\n",
              "// where there are multiple asynchronous steps and the Python side is going\n",
              "// to poll for completion of each step.\n",
              "// This uses a Promise to block the python side on completion of each step,\n",
              "// then passes the result of the previous step as the input to the next step.\n",
              "function _uploadFilesContinue(outputId) {\n",
              "  const outputElement = document.getElementById(outputId);\n",
              "  const steps = outputElement.steps;\n",
              "\n",
              "  const next = steps.next(outputElement.lastPromiseValue);\n",
              "  return Promise.resolve(next.value.promise).then((value) => {\n",
              "    // Cache the last promise value to make it available to the next\n",
              "    // step of the generator.\n",
              "    outputElement.lastPromiseValue = value;\n",
              "    return next.value.response;\n",
              "  });\n",
              "}\n",
              "\n",
              "/**\n",
              " * Generator function which is called between each async step of the upload\n",
              " * process.\n",
              " * @param {string} inputId Element ID of the input file picker element.\n",
              " * @param {string} outputId Element ID of the output display.\n",
              " * @return {!Iterable<!Object>} Iterable of next steps.\n",
              " */\n",
              "function* uploadFilesStep(inputId, outputId) {\n",
              "  const inputElement = document.getElementById(inputId);\n",
              "  inputElement.disabled = false;\n",
              "\n",
              "  const outputElement = document.getElementById(outputId);\n",
              "  outputElement.innerHTML = '';\n",
              "\n",
              "  const pickedPromise = new Promise((resolve) => {\n",
              "    inputElement.addEventListener('change', (e) => {\n",
              "      resolve(e.target.files);\n",
              "    });\n",
              "  });\n",
              "\n",
              "  const cancel = document.createElement('button');\n",
              "  inputElement.parentElement.appendChild(cancel);\n",
              "  cancel.textContent = 'Cancel upload';\n",
              "  const cancelPromise = new Promise((resolve) => {\n",
              "    cancel.onclick = () => {\n",
              "      resolve(null);\n",
              "    };\n",
              "  });\n",
              "\n",
              "  // Wait for the user to pick the files.\n",
              "  const files = yield {\n",
              "    promise: Promise.race([pickedPromise, cancelPromise]),\n",
              "    response: {\n",
              "      action: 'starting',\n",
              "    }\n",
              "  };\n",
              "\n",
              "  cancel.remove();\n",
              "\n",
              "  // Disable the input element since further picks are not allowed.\n",
              "  inputElement.disabled = true;\n",
              "\n",
              "  if (!files) {\n",
              "    return {\n",
              "      response: {\n",
              "        action: 'complete',\n",
              "      }\n",
              "    };\n",
              "  }\n",
              "\n",
              "  for (const file of files) {\n",
              "    const li = document.createElement('li');\n",
              "    li.append(span(file.name, {fontWeight: 'bold'}));\n",
              "    li.append(span(\n",
              "        `(${file.type || 'n/a'}) - ${file.size} bytes, ` +\n",
              "        `last modified: ${\n",
              "            file.lastModifiedDate ? file.lastModifiedDate.toLocaleDateString() :\n",
              "                                    'n/a'} - `));\n",
              "    const percent = span('0% done');\n",
              "    li.appendChild(percent);\n",
              "\n",
              "    outputElement.appendChild(li);\n",
              "\n",
              "    const fileDataPromise = new Promise((resolve) => {\n",
              "      const reader = new FileReader();\n",
              "      reader.onload = (e) => {\n",
              "        resolve(e.target.result);\n",
              "      };\n",
              "      reader.readAsArrayBuffer(file);\n",
              "    });\n",
              "    // Wait for the data to be ready.\n",
              "    let fileData = yield {\n",
              "      promise: fileDataPromise,\n",
              "      response: {\n",
              "        action: 'continue',\n",
              "      }\n",
              "    };\n",
              "\n",
              "    // Use a chunked sending to avoid message size limits. See b/62115660.\n",
              "    let position = 0;\n",
              "    do {\n",
              "      const length = Math.min(fileData.byteLength - position, MAX_PAYLOAD_SIZE);\n",
              "      const chunk = new Uint8Array(fileData, position, length);\n",
              "      position += length;\n",
              "\n",
              "      const base64 = btoa(String.fromCharCode.apply(null, chunk));\n",
              "      yield {\n",
              "        response: {\n",
              "          action: 'append',\n",
              "          file: file.name,\n",
              "          data: base64,\n",
              "        },\n",
              "      };\n",
              "\n",
              "      let percentDone = fileData.byteLength === 0 ?\n",
              "          100 :\n",
              "          Math.round((position / fileData.byteLength) * 100);\n",
              "      percent.textContent = `${percentDone}% done`;\n",
              "\n",
              "    } while (position < fileData.byteLength);\n",
              "  }\n",
              "\n",
              "  // All done.\n",
              "  yield {\n",
              "    response: {\n",
              "      action: 'complete',\n",
              "    }\n",
              "  };\n",
              "}\n",
              "\n",
              "scope.google = scope.google || {};\n",
              "scope.google.colab = scope.google.colab || {};\n",
              "scope.google.colab._files = {\n",
              "  _uploadFiles,\n",
              "  _uploadFilesContinue,\n",
              "};\n",
              "})(self);\n",
              "</script> "
            ]
          },
          "metadata": {}
        },
        {
          "output_type": "stream",
          "name": "stdout",
          "text": [
            "Saving historical_daily_sales.csv to historical_daily_sales.csv\n"
          ]
        }
      ],
      "source": [
        "#upload csv\n",
        "#use the following library\n",
        "#from google.colab import files\n",
        "\n",
        "uploaded = files.upload()"
      ]
    },
    {
      "cell_type": "code",
      "source": [
        "#turn csv to dataframe\n",
        "\n",
        "#use the following library\n",
        "#import pandas as pd\n",
        "#import io\n",
        "\n",
        "daily_user_sales = pd.read_csv(io.BytesIO(uploaded['historical_daily_sales.csv']))\n",
        "print(daily_user_sales.head())"
      ],
      "metadata": {
        "colab": {
          "base_uri": "https://localhost:8080/"
        },
        "id": "bB6bFnr8kgc8",
        "outputId": "df11479f-0bfd-4316-bc9f-a36f8e23c678"
      },
      "execution_count": null,
      "outputs": [
        {
          "output_type": "stream",
          "name": "stdout",
          "text": [
            "     DATE  USER_ID  SALES\n",
            "0  6/1/23        3   5.89\n",
            "1  6/1/23       79  13.08\n",
            "2  6/1/23       75   6.88\n",
            "3  6/1/23       76   7.63\n",
            "4  6/1/23      100   3.50\n"
          ]
        }
      ]
    },
    {
      "cell_type": "markdown",
      "source": [
        "# **Part II: Power Analysis to Calculate Sample Size for the Test**"
      ],
      "metadata": {
        "id": "iPtwEZGt1fXI"
      }
    },
    {
      "cell_type": "code",
      "source": [
        "#calculate mean and std for power analysis\n",
        "\n",
        "summary = pd.DataFrame(daily_user_sales.groupby('USER_ID')['SALES'].sum())\n",
        "print(summary.head())\n",
        "\n",
        "#Usually, we use last 28-30 days data as the base to calculate mean and sd\n",
        "sd_sales = summary['SALES'].astype('float').std()\n",
        "average_sales = summary['SALES'].astype('float').mean()\n",
        "\n",
        "#print results\n",
        "print (\"sd_sales: \" + str(sd_sales))\n",
        "print (\"avg_sales: \" + str(average_sales))"
      ],
      "metadata": {
        "colab": {
          "base_uri": "https://localhost:8080/"
        },
        "id": "8GYqdlBiu5mQ",
        "outputId": "16331abc-453e-4649-a442-2fc6f156ec7a"
      },
      "execution_count": null,
      "outputs": [
        {
          "output_type": "stream",
          "name": "stdout",
          "text": [
            "         SALES\n",
            "USER_ID       \n",
            "1         7.63\n",
            "2         6.49\n",
            "3        13.52\n",
            "4         7.24\n",
            "5        13.88\n",
            "sd_sales: 13.921136358018183\n",
            "avg_sales: 11.123264900662253\n"
          ]
        }
      ]
    },
    {
      "cell_type": "code",
      "source": [
        "#use the following library\n",
        "#from statsmodels.stats.power import ttest_power, tt_ind_solve_power - for mean calculation\n",
        "#import statsmodels.api as sm - for proportion calculation\n",
        "\n",
        "#two-sided t test for power analysis estimate - calculate sample size\n",
        "\n",
        "# Power Analysis Input Parameters\n",
        "MDE = 0.05 #Empirical threshold\n",
        "significance_level = 0.05 #industry standard\n",
        "power = 0.8 #industry standard\n",
        "delta = average_sales*MDE\n",
        "effect_size = delta/sd_sales #cohen D: effect_size for means\n",
        "\n",
        "#effect_size for proportions\n",
        "#effect_size = sm.stats.proportion_effectsize(average_ctr, average_ctr*(1+MDE))\n",
        "\n",
        "# calculate for equal sample size, output is for one sample size\n",
        "sample_size = tt_ind_solve_power(effect_size=effect_size,\n",
        "                                 alpha=significance_level,\n",
        "                                 power=power,\n",
        "                                 ratio=1,\n",
        "                                 alternative='two-sided',nobs1 = None)\n",
        "\n",
        "## show sample size needed to achieve minimum power\n",
        "print (\"sample size needed for each group of the AB test: \" + str(sample_size))\n",
        "print (\"sample size needed for the AB test: \" + str(sample_size*2))\n",
        "\n",
        "# calculate for unequal sample size - usually used for incrementality test\n",
        "sample_size = tt_ind_solve_power(effect_size=effect_size,\n",
        "                                 alpha=significance_level,\n",
        "                                 power=power,\n",
        "                                 ratio=9,\n",
        "                                 alternative='two-sided',nobs1 = None)\n",
        "\n",
        "## show total sample size needed to achieve minimum power\n",
        "print (\"sample size needed for an unequal test: \" + str(sample_size*9+sample_size))"
      ],
      "metadata": {
        "colab": {
          "base_uri": "https://localhost:8080/"
        },
        "id": "N6sN2rJ1vaUa",
        "outputId": "190bd558-b789-42b3-de0c-7c4a41b32f52"
      },
      "execution_count": null,
      "outputs": [
        {
          "output_type": "stream",
          "name": "stdout",
          "text": [
            "sample size needed for each group of the AB test: 9836.120217090216\n",
            "sample size needed for the AB test: 19672.240434180432\n",
            "sample size needed for an unequal test: 54641.69725303741\n"
          ]
        }
      ]
    },
    {
      "cell_type": "markdown",
      "source": [
        "The tt_ind_solve_power() function requires the following parameters to calculate sample size:\n",
        "\n",
        "effect_size: The standardised effect size ie. difference between the two means divided by the standard deviation; this value has to be positive. (This is different to R’s delta parameter, which requires the mean difference only.)\n",
        "alpha: Significance level or probability of Type I error (false positives), usually set at 0.05.\n",
        "power: Power of the test, or 1 – probability of Type II error (false negatives), usually set at 0.8.\n",
        "ratio: Ratio of sample size in sample 2 relative to sample 1, default set at 1. (This function can be used to calculate power for unevenly-sized samples.)\n",
        "alternative: Power the test to detect two-sided effects (eg. the effect could be an increase or a reduction in outcome, not forced to be only an increase in outcome.)\n",
        "\n",
        "for sd in [0.4, 0.5, 0.6]:\n",
        "n = tt_ind_solve_power(effect_size=mean_diff/sd, alpha=0.05, power=0.8, ratio=1, alternative='two-sided')\n",
        "print('Number in *each* group when SD is {:<4.1f}: {:.2f}'.format(sd, n))"
      ],
      "metadata": {
        "id": "2AKYfw28x9_E"
      }
    },
    {
      "cell_type": "markdown",
      "source": [
        "# **Part III: Calculate Test Duration**"
      ],
      "metadata": {
        "id": "PKDGhxe42GEJ"
      }
    },
    {
      "cell_type": "code",
      "source": [
        "#upload csv\n",
        "\n",
        "uploaded = files.upload()"
      ],
      "metadata": {
        "colab": {
          "base_uri": "https://localhost:8080/",
          "height": 73
        },
        "id": "sRv23TSF3TXN",
        "outputId": "b14502b9-4987-4c99-afb0-58f730f88aa1"
      },
      "execution_count": null,
      "outputs": [
        {
          "output_type": "display_data",
          "data": {
            "text/plain": [
              "<IPython.core.display.HTML object>"
            ],
            "text/html": [
              "\n",
              "     <input type=\"file\" id=\"files-b3d84b15-0340-4eee-9fee-56c31aff3172\" name=\"files[]\" multiple disabled\n",
              "        style=\"border:none\" />\n",
              "     <output id=\"result-b3d84b15-0340-4eee-9fee-56c31aff3172\">\n",
              "      Upload widget is only available when the cell has been executed in the\n",
              "      current browser session. Please rerun this cell to enable.\n",
              "      </output>\n",
              "      <script>// Copyright 2017 Google LLC\n",
              "//\n",
              "// Licensed under the Apache License, Version 2.0 (the \"License\");\n",
              "// you may not use this file except in compliance with the License.\n",
              "// You may obtain a copy of the License at\n",
              "//\n",
              "//      http://www.apache.org/licenses/LICENSE-2.0\n",
              "//\n",
              "// Unless required by applicable law or agreed to in writing, software\n",
              "// distributed under the License is distributed on an \"AS IS\" BASIS,\n",
              "// WITHOUT WARRANTIES OR CONDITIONS OF ANY KIND, either express or implied.\n",
              "// See the License for the specific language governing permissions and\n",
              "// limitations under the License.\n",
              "\n",
              "/**\n",
              " * @fileoverview Helpers for google.colab Python module.\n",
              " */\n",
              "(function(scope) {\n",
              "function span(text, styleAttributes = {}) {\n",
              "  const element = document.createElement('span');\n",
              "  element.textContent = text;\n",
              "  for (const key of Object.keys(styleAttributes)) {\n",
              "    element.style[key] = styleAttributes[key];\n",
              "  }\n",
              "  return element;\n",
              "}\n",
              "\n",
              "// Max number of bytes which will be uploaded at a time.\n",
              "const MAX_PAYLOAD_SIZE = 100 * 1024;\n",
              "\n",
              "function _uploadFiles(inputId, outputId) {\n",
              "  const steps = uploadFilesStep(inputId, outputId);\n",
              "  const outputElement = document.getElementById(outputId);\n",
              "  // Cache steps on the outputElement to make it available for the next call\n",
              "  // to uploadFilesContinue from Python.\n",
              "  outputElement.steps = steps;\n",
              "\n",
              "  return _uploadFilesContinue(outputId);\n",
              "}\n",
              "\n",
              "// This is roughly an async generator (not supported in the browser yet),\n",
              "// where there are multiple asynchronous steps and the Python side is going\n",
              "// to poll for completion of each step.\n",
              "// This uses a Promise to block the python side on completion of each step,\n",
              "// then passes the result of the previous step as the input to the next step.\n",
              "function _uploadFilesContinue(outputId) {\n",
              "  const outputElement = document.getElementById(outputId);\n",
              "  const steps = outputElement.steps;\n",
              "\n",
              "  const next = steps.next(outputElement.lastPromiseValue);\n",
              "  return Promise.resolve(next.value.promise).then((value) => {\n",
              "    // Cache the last promise value to make it available to the next\n",
              "    // step of the generator.\n",
              "    outputElement.lastPromiseValue = value;\n",
              "    return next.value.response;\n",
              "  });\n",
              "}\n",
              "\n",
              "/**\n",
              " * Generator function which is called between each async step of the upload\n",
              " * process.\n",
              " * @param {string} inputId Element ID of the input file picker element.\n",
              " * @param {string} outputId Element ID of the output display.\n",
              " * @return {!Iterable<!Object>} Iterable of next steps.\n",
              " */\n",
              "function* uploadFilesStep(inputId, outputId) {\n",
              "  const inputElement = document.getElementById(inputId);\n",
              "  inputElement.disabled = false;\n",
              "\n",
              "  const outputElement = document.getElementById(outputId);\n",
              "  outputElement.innerHTML = '';\n",
              "\n",
              "  const pickedPromise = new Promise((resolve) => {\n",
              "    inputElement.addEventListener('change', (e) => {\n",
              "      resolve(e.target.files);\n",
              "    });\n",
              "  });\n",
              "\n",
              "  const cancel = document.createElement('button');\n",
              "  inputElement.parentElement.appendChild(cancel);\n",
              "  cancel.textContent = 'Cancel upload';\n",
              "  const cancelPromise = new Promise((resolve) => {\n",
              "    cancel.onclick = () => {\n",
              "      resolve(null);\n",
              "    };\n",
              "  });\n",
              "\n",
              "  // Wait for the user to pick the files.\n",
              "  const files = yield {\n",
              "    promise: Promise.race([pickedPromise, cancelPromise]),\n",
              "    response: {\n",
              "      action: 'starting',\n",
              "    }\n",
              "  };\n",
              "\n",
              "  cancel.remove();\n",
              "\n",
              "  // Disable the input element since further picks are not allowed.\n",
              "  inputElement.disabled = true;\n",
              "\n",
              "  if (!files) {\n",
              "    return {\n",
              "      response: {\n",
              "        action: 'complete',\n",
              "      }\n",
              "    };\n",
              "  }\n",
              "\n",
              "  for (const file of files) {\n",
              "    const li = document.createElement('li');\n",
              "    li.append(span(file.name, {fontWeight: 'bold'}));\n",
              "    li.append(span(\n",
              "        `(${file.type || 'n/a'}) - ${file.size} bytes, ` +\n",
              "        `last modified: ${\n",
              "            file.lastModifiedDate ? file.lastModifiedDate.toLocaleDateString() :\n",
              "                                    'n/a'} - `));\n",
              "    const percent = span('0% done');\n",
              "    li.appendChild(percent);\n",
              "\n",
              "    outputElement.appendChild(li);\n",
              "\n",
              "    const fileDataPromise = new Promise((resolve) => {\n",
              "      const reader = new FileReader();\n",
              "      reader.onload = (e) => {\n",
              "        resolve(e.target.result);\n",
              "      };\n",
              "      reader.readAsArrayBuffer(file);\n",
              "    });\n",
              "    // Wait for the data to be ready.\n",
              "    let fileData = yield {\n",
              "      promise: fileDataPromise,\n",
              "      response: {\n",
              "        action: 'continue',\n",
              "      }\n",
              "    };\n",
              "\n",
              "    // Use a chunked sending to avoid message size limits. See b/62115660.\n",
              "    let position = 0;\n",
              "    do {\n",
              "      const length = Math.min(fileData.byteLength - position, MAX_PAYLOAD_SIZE);\n",
              "      const chunk = new Uint8Array(fileData, position, length);\n",
              "      position += length;\n",
              "\n",
              "      const base64 = btoa(String.fromCharCode.apply(null, chunk));\n",
              "      yield {\n",
              "        response: {\n",
              "          action: 'append',\n",
              "          file: file.name,\n",
              "          data: base64,\n",
              "        },\n",
              "      };\n",
              "\n",
              "      let percentDone = fileData.byteLength === 0 ?\n",
              "          100 :\n",
              "          Math.round((position / fileData.byteLength) * 100);\n",
              "      percent.textContent = `${percentDone}% done`;\n",
              "\n",
              "    } while (position < fileData.byteLength);\n",
              "  }\n",
              "\n",
              "  // All done.\n",
              "  yield {\n",
              "    response: {\n",
              "      action: 'complete',\n",
              "    }\n",
              "  };\n",
              "}\n",
              "\n",
              "scope.google = scope.google || {};\n",
              "scope.google.colab = scope.google.colab || {};\n",
              "scope.google.colab._files = {\n",
              "  _uploadFiles,\n",
              "  _uploadFilesContinue,\n",
              "};\n",
              "})(self);\n",
              "</script> "
            ]
          },
          "metadata": {}
        },
        {
          "output_type": "stream",
          "name": "stdout",
          "text": [
            "Saving historical_daily_users.csv to historical_daily_users.csv\n"
          ]
        }
      ]
    },
    {
      "cell_type": "code",
      "source": [
        "daily_users = pd.read_csv(io.BytesIO(uploaded['historical_daily_users.csv']))\n",
        "print(daily_users)"
      ],
      "metadata": {
        "colab": {
          "base_uri": "https://localhost:8080/"
        },
        "id": "MAmqcypW2OTB",
        "outputId": "40bf625f-c7c3-48a8-a9a6-bc22e9ed1c57"
      },
      "execution_count": null,
      "outputs": [
        {
          "output_type": "stream",
          "name": "stdout",
          "text": [
            "          DATE  USER_ID  AD_SPEND\n",
            "0       6/1/23        3      4.42\n",
            "1       6/1/23       79      9.81\n",
            "2       6/1/23       75      5.16\n",
            "3       6/1/23       76      5.72\n",
            "4       6/1/23      100      2.63\n",
            "...        ...      ...       ...\n",
            "17983  6/30/23    16631      5.99\n",
            "17984  6/30/23    16632      2.86\n",
            "17985  6/30/23    16633      2.77\n",
            "17986  6/30/23    16634      6.22\n",
            "17987  6/30/23    16635      2.87\n",
            "\n",
            "[17988 rows x 3 columns]\n"
          ]
        }
      ]
    },
    {
      "cell_type": "code",
      "source": [
        "#Calculate test duration\n",
        "\n",
        "#casting date column\n",
        "daily_users['DATE']=pd.to_datetime(daily_users['DATE'])\n",
        "\n",
        "# Group by 'DATE' and count unique 'USER_ID'\n",
        "daily_unique_users = daily_users.groupby('DATE')['USER_ID'].nunique()\n",
        "\n",
        "#get the average daily user count\n",
        "avg_daily_unique_users = daily_unique_users.mean()\n",
        "\n",
        "#calculate test duration based on sample size\n",
        "test_duration = sample_size*2/avg_daily_unique_users\n",
        "print(\"Based on the last 30 days data, the average daily users is: \",avg_daily_unique_users)\n",
        "print(\"Based on the last 30 days data, the calculated test duration is: \", test_duration)\n",
        "\n",
        "#we usually want to make the test duration to be full weeks, in this case, test duration is 21 days.\n",
        "ajusted_test_duration = math.ceil(test_duration/7)*7\n",
        "print(\"Based on the last 30 days data, the adjusted test duration is: \", ajusted_test_duration)"
      ],
      "metadata": {
        "colab": {
          "base_uri": "https://localhost:8080/"
        },
        "id": "MBmRklNU4Gse",
        "outputId": "ff594ed4-8aaf-4f7c-a466-c9abad8137eb"
      },
      "execution_count": null,
      "outputs": [
        {
          "output_type": "stream",
          "name": "stdout",
          "text": [
            "Based on the last 30 days data, the average daily users is:  597.6666666666666\n",
            "Based on the last 30 days data, the calculated test duration is:  18.285007446638286\n",
            "Based on the last 30 days data, the adjusted test duration is:  21\n"
          ]
        }
      ]
    },
    {
      "cell_type": "markdown",
      "source": [
        "# **Part IV: Calculate Budget Needed for the Test**"
      ],
      "metadata": {
        "id": "Sv0rUjR89qzw"
      }
    },
    {
      "cell_type": "code",
      "source": [
        "#Linear estimation of spend required\n",
        "#budget needed = sample size required*cost per user <- cost to reach unique eligible user\n",
        "#Incremental budget = budget needed - current budget\n",
        "\n",
        "#calculate variables\n",
        "total_users = daily_users['USER_ID'].nunique()\n",
        "total_spend = daily_users['AD_SPEND'].sum()\n",
        "cost_per_user = total_spend/total_users\n",
        "print(\"Based on the last 30 days data, cost/user is: \", cost_per_user)\n",
        "\n",
        "#back up to sample size\n",
        "total_spend_needed = sample_size*2*cost_per_user\n",
        "daily_spend_needed = total_spend_needed/test_duration\n",
        "\n",
        "print ('total spend needed for the test:' + f'{total_spend_needed:.2f}')\n",
        "print ('daily spend needed for the test:' + f'{daily_spend_needed:.2f}')"
      ],
      "metadata": {
        "colab": {
          "base_uri": "https://localhost:8080/"
        },
        "id": "CD4vTMn-9sz7",
        "outputId": "8ebcdcdc-1c77-484c-f37d-a7ec16b4e29b"
      },
      "execution_count": null,
      "outputs": [
        {
          "output_type": "stream",
          "name": "stdout",
          "text": [
            "Based on the last 30 days data, cost/user is:  6.3881389452332655\n",
            "total spend needed for the test:69811.75\n",
            "daily spend needed for the test:3817.98\n"
          ]
        }
      ]
    },
    {
      "cell_type": "markdown",
      "source": [
        "# **Part V: Validity Test - AA Test**"
      ],
      "metadata": {
        "id": "11HwjBtxbeuW"
      }
    },
    {
      "cell_type": "code",
      "source": [
        "#upload csv\n",
        "\n",
        "uploaded = files.upload()"
      ],
      "metadata": {
        "colab": {
          "base_uri": "https://localhost:8080/",
          "height": 73
        },
        "id": "uc742T_xbdd_",
        "outputId": "dc35ac91-8f98-483f-f534-8d4c74a1454b"
      },
      "execution_count": null,
      "outputs": [
        {
          "output_type": "display_data",
          "data": {
            "text/plain": [
              "<IPython.core.display.HTML object>"
            ],
            "text/html": [
              "\n",
              "     <input type=\"file\" id=\"files-80f3ef3e-8802-4125-8a9b-d01c990f4af3\" name=\"files[]\" multiple disabled\n",
              "        style=\"border:none\" />\n",
              "     <output id=\"result-80f3ef3e-8802-4125-8a9b-d01c990f4af3\">\n",
              "      Upload widget is only available when the cell has been executed in the\n",
              "      current browser session. Please rerun this cell to enable.\n",
              "      </output>\n",
              "      <script>// Copyright 2017 Google LLC\n",
              "//\n",
              "// Licensed under the Apache License, Version 2.0 (the \"License\");\n",
              "// you may not use this file except in compliance with the License.\n",
              "// You may obtain a copy of the License at\n",
              "//\n",
              "//      http://www.apache.org/licenses/LICENSE-2.0\n",
              "//\n",
              "// Unless required by applicable law or agreed to in writing, software\n",
              "// distributed under the License is distributed on an \"AS IS\" BASIS,\n",
              "// WITHOUT WARRANTIES OR CONDITIONS OF ANY KIND, either express or implied.\n",
              "// See the License for the specific language governing permissions and\n",
              "// limitations under the License.\n",
              "\n",
              "/**\n",
              " * @fileoverview Helpers for google.colab Python module.\n",
              " */\n",
              "(function(scope) {\n",
              "function span(text, styleAttributes = {}) {\n",
              "  const element = document.createElement('span');\n",
              "  element.textContent = text;\n",
              "  for (const key of Object.keys(styleAttributes)) {\n",
              "    element.style[key] = styleAttributes[key];\n",
              "  }\n",
              "  return element;\n",
              "}\n",
              "\n",
              "// Max number of bytes which will be uploaded at a time.\n",
              "const MAX_PAYLOAD_SIZE = 100 * 1024;\n",
              "\n",
              "function _uploadFiles(inputId, outputId) {\n",
              "  const steps = uploadFilesStep(inputId, outputId);\n",
              "  const outputElement = document.getElementById(outputId);\n",
              "  // Cache steps on the outputElement to make it available for the next call\n",
              "  // to uploadFilesContinue from Python.\n",
              "  outputElement.steps = steps;\n",
              "\n",
              "  return _uploadFilesContinue(outputId);\n",
              "}\n",
              "\n",
              "// This is roughly an async generator (not supported in the browser yet),\n",
              "// where there are multiple asynchronous steps and the Python side is going\n",
              "// to poll for completion of each step.\n",
              "// This uses a Promise to block the python side on completion of each step,\n",
              "// then passes the result of the previous step as the input to the next step.\n",
              "function _uploadFilesContinue(outputId) {\n",
              "  const outputElement = document.getElementById(outputId);\n",
              "  const steps = outputElement.steps;\n",
              "\n",
              "  const next = steps.next(outputElement.lastPromiseValue);\n",
              "  return Promise.resolve(next.value.promise).then((value) => {\n",
              "    // Cache the last promise value to make it available to the next\n",
              "    // step of the generator.\n",
              "    outputElement.lastPromiseValue = value;\n",
              "    return next.value.response;\n",
              "  });\n",
              "}\n",
              "\n",
              "/**\n",
              " * Generator function which is called between each async step of the upload\n",
              " * process.\n",
              " * @param {string} inputId Element ID of the input file picker element.\n",
              " * @param {string} outputId Element ID of the output display.\n",
              " * @return {!Iterable<!Object>} Iterable of next steps.\n",
              " */\n",
              "function* uploadFilesStep(inputId, outputId) {\n",
              "  const inputElement = document.getElementById(inputId);\n",
              "  inputElement.disabled = false;\n",
              "\n",
              "  const outputElement = document.getElementById(outputId);\n",
              "  outputElement.innerHTML = '';\n",
              "\n",
              "  const pickedPromise = new Promise((resolve) => {\n",
              "    inputElement.addEventListener('change', (e) => {\n",
              "      resolve(e.target.files);\n",
              "    });\n",
              "  });\n",
              "\n",
              "  const cancel = document.createElement('button');\n",
              "  inputElement.parentElement.appendChild(cancel);\n",
              "  cancel.textContent = 'Cancel upload';\n",
              "  const cancelPromise = new Promise((resolve) => {\n",
              "    cancel.onclick = () => {\n",
              "      resolve(null);\n",
              "    };\n",
              "  });\n",
              "\n",
              "  // Wait for the user to pick the files.\n",
              "  const files = yield {\n",
              "    promise: Promise.race([pickedPromise, cancelPromise]),\n",
              "    response: {\n",
              "      action: 'starting',\n",
              "    }\n",
              "  };\n",
              "\n",
              "  cancel.remove();\n",
              "\n",
              "  // Disable the input element since further picks are not allowed.\n",
              "  inputElement.disabled = true;\n",
              "\n",
              "  if (!files) {\n",
              "    return {\n",
              "      response: {\n",
              "        action: 'complete',\n",
              "      }\n",
              "    };\n",
              "  }\n",
              "\n",
              "  for (const file of files) {\n",
              "    const li = document.createElement('li');\n",
              "    li.append(span(file.name, {fontWeight: 'bold'}));\n",
              "    li.append(span(\n",
              "        `(${file.type || 'n/a'}) - ${file.size} bytes, ` +\n",
              "        `last modified: ${\n",
              "            file.lastModifiedDate ? file.lastModifiedDate.toLocaleDateString() :\n",
              "                                    'n/a'} - `));\n",
              "    const percent = span('0% done');\n",
              "    li.appendChild(percent);\n",
              "\n",
              "    outputElement.appendChild(li);\n",
              "\n",
              "    const fileDataPromise = new Promise((resolve) => {\n",
              "      const reader = new FileReader();\n",
              "      reader.onload = (e) => {\n",
              "        resolve(e.target.result);\n",
              "      };\n",
              "      reader.readAsArrayBuffer(file);\n",
              "    });\n",
              "    // Wait for the data to be ready.\n",
              "    let fileData = yield {\n",
              "      promise: fileDataPromise,\n",
              "      response: {\n",
              "        action: 'continue',\n",
              "      }\n",
              "    };\n",
              "\n",
              "    // Use a chunked sending to avoid message size limits. See b/62115660.\n",
              "    let position = 0;\n",
              "    do {\n",
              "      const length = Math.min(fileData.byteLength - position, MAX_PAYLOAD_SIZE);\n",
              "      const chunk = new Uint8Array(fileData, position, length);\n",
              "      position += length;\n",
              "\n",
              "      const base64 = btoa(String.fromCharCode.apply(null, chunk));\n",
              "      yield {\n",
              "        response: {\n",
              "          action: 'append',\n",
              "          file: file.name,\n",
              "          data: base64,\n",
              "        },\n",
              "      };\n",
              "\n",
              "      let percentDone = fileData.byteLength === 0 ?\n",
              "          100 :\n",
              "          Math.round((position / fileData.byteLength) * 100);\n",
              "      percent.textContent = `${percentDone}% done`;\n",
              "\n",
              "    } while (position < fileData.byteLength);\n",
              "  }\n",
              "\n",
              "  // All done.\n",
              "  yield {\n",
              "    response: {\n",
              "      action: 'complete',\n",
              "    }\n",
              "  };\n",
              "}\n",
              "\n",
              "scope.google = scope.google || {};\n",
              "scope.google.colab = scope.google.colab || {};\n",
              "scope.google.colab._files = {\n",
              "  _uploadFiles,\n",
              "  _uploadFilesContinue,\n",
              "};\n",
              "})(self);\n",
              "</script> "
            ]
          },
          "metadata": {}
        },
        {
          "output_type": "stream",
          "name": "stdout",
          "text": [
            "Saving pretest_data.csv to pretest_data.csv\n"
          ]
        }
      ]
    },
    {
      "cell_type": "code",
      "source": [
        "#turn csv to dataframe\n",
        "\n",
        "pretest_aa = pd.read_csv(io.BytesIO(uploaded['pretest_data.csv']))\n",
        "print(pretest_aa)"
      ],
      "metadata": {
        "colab": {
          "base_uri": "https://localhost:8080/"
        },
        "id": "Tz7uTW-4fEV2",
        "outputId": "afc43719-b13f-4272-d187-fd2671a5e4c0"
      },
      "execution_count": null,
      "outputs": [
        {
          "output_type": "stream",
          "name": "stdout",
          "text": [
            "       USER_ID     DATE EXPERIMENT  GROUP  SALES\n",
            "0       169902   7/1/23    AA_test      0   3.46\n",
            "1       169906   7/1/23    AA_test      0   5.58\n",
            "2       169913   7/1/23    AA_test      1   6.49\n",
            "3       169914   7/1/23    AA_test      0   7.58\n",
            "4       169917   7/1/23    AA_test      0   0.41\n",
            "...        ...      ...        ...    ...    ...\n",
            "30034   309891  7/14/23    AA_test      1   5.46\n",
            "30035   309893  7/14/23    AA_test      0   0.30\n",
            "30036   309894  7/14/23    AA_test      0   9.05\n",
            "30037   309895  7/14/23    AA_test      1   6.15\n",
            "30038   309900  7/14/23    AA_test      0   9.58\n",
            "\n",
            "[30039 rows x 5 columns]\n"
          ]
        }
      ]
    },
    {
      "cell_type": "code",
      "source": [
        "# Group by test groups, and calculate the average sales for each group\n",
        "AA_avgsales_per_group = pretest_aa.groupby(['GROUP'])['SALES'].mean().reset_index()\n",
        "\n",
        "print(AA_avgsales_per_group)"
      ],
      "metadata": {
        "colab": {
          "base_uri": "https://localhost:8080/"
        },
        "id": "capDpF05rDgc",
        "outputId": "557e3648-52bd-4c63-bb54-17821843d13f"
      },
      "execution_count": null,
      "outputs": [
        {
          "output_type": "stream",
          "name": "stdout",
          "text": [
            "   GROUP     SALES\n",
            "0      0  5.010678\n",
            "1      1  4.999514\n"
          ]
        }
      ]
    },
    {
      "cell_type": "code",
      "source": [
        "#Use the following library\n",
        "#import statsmodels.stats.api as sms\n",
        "\n",
        "# Assuming df_aa_test_prep is your DataFrame containing the data\n",
        "\n",
        "x = pretest_aa.loc[pretest_aa['GROUP'] == 0, 'SALES'].astype(float)\n",
        "y = pretest_aa.loc[pretest_aa['GROUP'] == 1, 'SALES'].astype(float)\n",
        "\n",
        "# Calculate CI of the means\n",
        "cm = sms.CompareMeans(sms.DescrStatsW(x), sms.DescrStatsW(y))\n",
        "lb, ub = cm.tconfint_diff(usevar='unequal')\n",
        "\n",
        "def hypothesis_test_output(lb, ub):\n",
        "    if 0 > float(lb) and 0 < float(ub):\n",
        "        return 'The two samples are not statistically different'\n",
        "    else:\n",
        "        return 'The two samples are statistically different'\n",
        "\n",
        "result = hypothesis_test_output(lb, ub)\n",
        "print(result)\n",
        "\n",
        "#proportions can use the same method or use chi-squared test"
      ],
      "metadata": {
        "colab": {
          "base_uri": "https://localhost:8080/"
        },
        "id": "1pZZgeSemMmW",
        "outputId": "cfb41f5c-e2d0-494b-aca1-bf695d91c881"
      },
      "execution_count": null,
      "outputs": [
        {
          "output_type": "stream",
          "name": "stdout",
          "text": [
            "The two samples are not statistically different\n"
          ]
        }
      ]
    },
    {
      "cell_type": "code",
      "source": [
        "#Use the following library\n",
        "#import matplotlib.pyplot as plt\n",
        "\n",
        "# average sales per user per day\n",
        "AA_avg_sales_per_day = pretest_aa.groupby(['GROUP','DATE'])['SALES'].mean()\n",
        "AA_ctrl_avg_sales = AA_avg_sales_per_day.loc[0]\n",
        "AA_trt_avg_sales = AA_avg_sales_per_day.loc[1]\n",
        "\n",
        "# Get the day range of experiment\n",
        "exp_days = range(1, pretest_aa['DATE'].nunique() + 1)\n",
        "\n",
        "# Let's display the avg sales per experiment day\n",
        "f, ax = plt.subplots(figsize=(10, 6))\n",
        "# Generate plots\n",
        "ax.plot(exp_days, AA_ctrl_avg_sales, label='Control', color='b')\n",
        "ax.plot(exp_days, AA_trt_avg_sales, label='Treatment', color='g')\n",
        "\n",
        "# # Format plot\n",
        "ax.set_xticks(exp_days)\n",
        "ax.set_title('AA Test')\n",
        "ax.set_ylabel('Avg Sales per Day')\n",
        "ax.set_xlabel('Days in the Experiment')\n",
        "ax.legend()\n",
        "plt.show()"
      ],
      "metadata": {
        "colab": {
          "base_uri": "https://localhost:8080/",
          "height": 564
        },
        "id": "PQzSzOgho4j1",
        "outputId": "cd8932c5-d12e-4691-9da4-76cfc1e8a073"
      },
      "execution_count": null,
      "outputs": [
        {
          "output_type": "display_data",
          "data": {
            "text/plain": [
              "<Figure size 1000x600 with 1 Axes>"
            ],
            "image/png": "[encoded data removed]"
          },
          "metadata": {}
        }
      ]
    },
    {
      "cell_type": "markdown",
      "source": [
        "# **Part VI: Validity Test - SRM Test (Sample Ratio Mismatch)**"
      ],
      "metadata": {
        "id": "qfISVvx2ScSd"
      }
    },
    {
      "cell_type": "code",
      "source": [
        "#upload csv\n",
        "\n",
        "uploaded = files.upload()"
      ],
      "metadata": {
        "colab": {
          "base_uri": "https://localhost:8080/",
          "height": 73
        },
        "id": "Yx_VVYuvSYOk",
        "outputId": "ea70331d-6a0a-4325-cd26-6912b979e28d"
      },
      "execution_count": null,
      "outputs": [
        {
          "output_type": "display_data",
          "data": {
            "text/plain": [
              "<IPython.core.display.HTML object>"
            ],
            "text/html": [
              "\n",
              "     <input type=\"file\" id=\"files-a57c96d2-ebb2-4bf3-9629-4e82d27e8b0d\" name=\"files[]\" multiple disabled\n",
              "        style=\"border:none\" />\n",
              "     <output id=\"result-a57c96d2-ebb2-4bf3-9629-4e82d27e8b0d\">\n",
              "      Upload widget is only available when the cell has been executed in the\n",
              "      current browser session. Please rerun this cell to enable.\n",
              "      </output>\n",
              "      <script>// Copyright 2017 Google LLC\n",
              "//\n",
              "// Licensed under the Apache License, Version 2.0 (the \"License\");\n",
              "// you may not use this file except in compliance with the License.\n",
              "// You may obtain a copy of the License at\n",
              "//\n",
              "//      http://www.apache.org/licenses/LICENSE-2.0\n",
              "//\n",
              "// Unless required by applicable law or agreed to in writing, software\n",
              "// distributed under the License is distributed on an \"AS IS\" BASIS,\n",
              "// WITHOUT WARRANTIES OR CONDITIONS OF ANY KIND, either express or implied.\n",
              "// See the License for the specific language governing permissions and\n",
              "// limitations under the License.\n",
              "\n",
              "/**\n",
              " * @fileoverview Helpers for google.colab Python module.\n",
              " */\n",
              "(function(scope) {\n",
              "function span(text, styleAttributes = {}) {\n",
              "  const element = document.createElement('span');\n",
              "  element.textContent = text;\n",
              "  for (const key of Object.keys(styleAttributes)) {\n",
              "    element.style[key] = styleAttributes[key];\n",
              "  }\n",
              "  return element;\n",
              "}\n",
              "\n",
              "// Max number of bytes which will be uploaded at a time.\n",
              "const MAX_PAYLOAD_SIZE = 100 * 1024;\n",
              "\n",
              "function _uploadFiles(inputId, outputId) {\n",
              "  const steps = uploadFilesStep(inputId, outputId);\n",
              "  const outputElement = document.getElementById(outputId);\n",
              "  // Cache steps on the outputElement to make it available for the next call\n",
              "  // to uploadFilesContinue from Python.\n",
              "  outputElement.steps = steps;\n",
              "\n",
              "  return _uploadFilesContinue(outputId);\n",
              "}\n",
              "\n",
              "// This is roughly an async generator (not supported in the browser yet),\n",
              "// where there are multiple asynchronous steps and the Python side is going\n",
              "// to poll for completion of each step.\n",
              "// This uses a Promise to block the python side on completion of each step,\n",
              "// then passes the result of the previous step as the input to the next step.\n",
              "function _uploadFilesContinue(outputId) {\n",
              "  const outputElement = document.getElementById(outputId);\n",
              "  const steps = outputElement.steps;\n",
              "\n",
              "  const next = steps.next(outputElement.lastPromiseValue);\n",
              "  return Promise.resolve(next.value.promise).then((value) => {\n",
              "    // Cache the last promise value to make it available to the next\n",
              "    // step of the generator.\n",
              "    outputElement.lastPromiseValue = value;\n",
              "    return next.value.response;\n",
              "  });\n",
              "}\n",
              "\n",
              "/**\n",
              " * Generator function which is called between each async step of the upload\n",
              " * process.\n",
              " * @param {string} inputId Element ID of the input file picker element.\n",
              " * @param {string} outputId Element ID of the output display.\n",
              " * @return {!Iterable<!Object>} Iterable of next steps.\n",
              " */\n",
              "function* uploadFilesStep(inputId, outputId) {\n",
              "  const inputElement = document.getElementById(inputId);\n",
              "  inputElement.disabled = false;\n",
              "\n",
              "  const outputElement = document.getElementById(outputId);\n",
              "  outputElement.innerHTML = '';\n",
              "\n",
              "  const pickedPromise = new Promise((resolve) => {\n",
              "    inputElement.addEventListener('change', (e) => {\n",
              "      resolve(e.target.files);\n",
              "    });\n",
              "  });\n",
              "\n",
              "  const cancel = document.createElement('button');\n",
              "  inputElement.parentElement.appendChild(cancel);\n",
              "  cancel.textContent = 'Cancel upload';\n",
              "  const cancelPromise = new Promise((resolve) => {\n",
              "    cancel.onclick = () => {\n",
              "      resolve(null);\n",
              "    };\n",
              "  });\n",
              "\n",
              "  // Wait for the user to pick the files.\n",
              "  const files = yield {\n",
              "    promise: Promise.race([pickedPromise, cancelPromise]),\n",
              "    response: {\n",
              "      action: 'starting',\n",
              "    }\n",
              "  };\n",
              "\n",
              "  cancel.remove();\n",
              "\n",
              "  // Disable the input element since further picks are not allowed.\n",
              "  inputElement.disabled = true;\n",
              "\n",
              "  if (!files) {\n",
              "    return {\n",
              "      response: {\n",
              "        action: 'complete',\n",
              "      }\n",
              "    };\n",
              "  }\n",
              "\n",
              "  for (const file of files) {\n",
              "    const li = document.createElement('li');\n",
              "    li.append(span(file.name, {fontWeight: 'bold'}));\n",
              "    li.append(span(\n",
              "        `(${file.type || 'n/a'}) - ${file.size} bytes, ` +\n",
              "        `last modified: ${\n",
              "            file.lastModifiedDate ? file.lastModifiedDate.toLocaleDateString() :\n",
              "                                    'n/a'} - `));\n",
              "    const percent = span('0% done');\n",
              "    li.appendChild(percent);\n",
              "\n",
              "    outputElement.appendChild(li);\n",
              "\n",
              "    const fileDataPromise = new Promise((resolve) => {\n",
              "      const reader = new FileReader();\n",
              "      reader.onload = (e) => {\n",
              "        resolve(e.target.result);\n",
              "      };\n",
              "      reader.readAsArrayBuffer(file);\n",
              "    });\n",
              "    // Wait for the data to be ready.\n",
              "    let fileData = yield {\n",
              "      promise: fileDataPromise,\n",
              "      response: {\n",
              "        action: 'continue',\n",
              "      }\n",
              "    };\n",
              "\n",
              "    // Use a chunked sending to avoid message size limits. See b/62115660.\n",
              "    let position = 0;\n",
              "    do {\n",
              "      const length = Math.min(fileData.byteLength - position, MAX_PAYLOAD_SIZE);\n",
              "      const chunk = new Uint8Array(fileData, position, length);\n",
              "      position += length;\n",
              "\n",
              "      const base64 = btoa(String.fromCharCode.apply(null, chunk));\n",
              "      yield {\n",
              "        response: {\n",
              "          action: 'append',\n",
              "          file: file.name,\n",
              "          data: base64,\n",
              "        },\n",
              "      };\n",
              "\n",
              "      let percentDone = fileData.byteLength === 0 ?\n",
              "          100 :\n",
              "          Math.round((position / fileData.byteLength) * 100);\n",
              "      percent.textContent = `${percentDone}% done`;\n",
              "\n",
              "    } while (position < fileData.byteLength);\n",
              "  }\n",
              "\n",
              "  // All done.\n",
              "  yield {\n",
              "    response: {\n",
              "      action: 'complete',\n",
              "    }\n",
              "  };\n",
              "}\n",
              "\n",
              "scope.google = scope.google || {};\n",
              "scope.google.colab = scope.google.colab || {};\n",
              "scope.google.colab._files = {\n",
              "  _uploadFiles,\n",
              "  _uploadFilesContinue,\n",
              "};\n",
              "})(self);\n",
              "</script> "
            ]
          },
          "metadata": {}
        },
        {
          "output_type": "stream",
          "name": "stdout",
          "text": [
            "Saving abtest_result.csv to abtest_result.csv\n"
          ]
        }
      ]
    },
    {
      "cell_type": "code",
      "source": [
        "test_result = pd.read_csv(io.BytesIO(uploaded['abtest_result.csv']))\n",
        "print(test_result)"
      ],
      "metadata": {
        "colab": {
          "base_uri": "https://localhost:8080/"
        },
        "id": "lf8eVnkFVmNC",
        "outputId": "59879ff4-c03b-4b60-a78f-23bf7fe81c6d"
      },
      "execution_count": null,
      "outputs": [
        {
          "output_type": "stream",
          "name": "stdout",
          "text": [
            "       USER_ID     DATE EXPERIMENT  GROUP  SALES\n",
            "0           15   8/1/23    ab_test      0   6.07\n",
            "1          356   8/1/23    ab_test      0   6.43\n",
            "2          630   8/1/23    ab_test      0   4.89\n",
            "3          892   8/1/23    ab_test      0   6.98\n",
            "4         1312   8/1/23    ab_test      0   1.65\n",
            "...        ...      ...        ...    ...    ...\n",
            "18601   138743  8/21/23    ab_test      1   2.15\n",
            "18602   138993  8/21/23    ab_test      1   3.58\n",
            "18603   139347  8/21/23    ab_test      1   3.69\n",
            "18604   139694  8/21/23    ab_test      1   4.34\n",
            "18605   139976  8/21/23    ab_test      1   2.45\n",
            "\n",
            "[18606 rows x 5 columns]\n"
          ]
        }
      ]
    },
    {
      "cell_type": "code",
      "source": [
        "#Use the following library\n",
        "#import scipy.stats as stats\n",
        "\n",
        "# Set test parameter\n",
        "SRM_ALPHA = 0.05\n",
        "\n",
        "# Get the observed and expected counts in the experiment\n",
        "observed = test_result.groupby('GROUP')['USER_ID'].nunique().values\n",
        "expected = test_result['USER_ID'].nunique()*0.5 #half of total test users\n",
        "\n",
        "print(\"Observed Counts:\", observed)\n",
        "print(\"Expected Count:\", expected)\n",
        "\n",
        "# perform Chi-Square Goodness of Fit Test\n",
        "chi_stats, pvalue = stats.chisquare(f_obs=observed, f_exp=expected)\n",
        "\n",
        "print('------- A Chi-Square Test for SRM --------\\n')\n",
        "print('Ho: The ratio of samples is 1:1.')\n",
        "print('Ha: The ratio of samples is not 1:1.\\n')\n",
        "print(f'Significance level: {SRM_ALPHA}')\n",
        "\n",
        "print(f'Chi-Square = {chi_stats:.3f} | P-value = {pvalue:.3f}')\n",
        "\n",
        "print('\\nConclusion:')\n",
        "if pvalue < SRM_ALPHA:\n",
        "  print('Reject Ho and conclude that there is statistical significance in the ratio of samples not being 1:1. Therefore, there is SRM.')\n",
        "else:\n",
        "  print('Fail to reject Ho. Therefore, there is no SRM.')"
      ],
      "metadata": {
        "colab": {
          "base_uri": "https://localhost:8080/"
        },
        "id": "_fCrpXjTV56W",
        "outputId": "87d0bbae-83fa-49b3-b887-6c856de90da6"
      },
      "execution_count": null,
      "outputs": [
        {
          "output_type": "stream",
          "name": "stdout",
          "text": [
            "Observed Counts: [9240 9366]\n",
            "Expected Count: 9303.0\n",
            "------- A Chi-Square Test for SRM --------\n",
            "\n",
            "Ho: The ratio of samples is 1:1.\n",
            "Ha: The ratio of samples is not 1:1.\n",
            "\n",
            "Significance level: 0.05\n",
            "Chi-Square = 0.853 | P-value = 0.356\n",
            "\n",
            "Conclusion:\n",
            "Fail to reject Ho. Therefore, there is no SRM.\n"
          ]
        }
      ]
    },
    {
      "cell_type": "markdown",
      "source": [
        "# **Part VII: Validity Test - Novelty Effect**\n",
        "Usually in user-visible test, for example, logo, new onboarding process, buttons etc."
      ],
      "metadata": {
        "id": "AmSIzgQaj8tV"
      }
    },
    {
      "cell_type": "code",
      "source": [
        "#Use the following library\n",
        "#import matplotlib.pyplot as plt\n",
        "\n",
        "# average sales per user per day\n",
        "avg_sales_per_day = test_result.groupby(['GROUP','DATE'])['SALES'].mean()\n",
        "ctrl_avg_sales = avg_sales_per_day.loc[0]\n",
        "trt_avg_sales = avg_sales_per_day.loc[1]\n",
        "\n",
        "# Get the day range of experiment\n",
        "exp_days = range(1, test_result['DATE'].nunique() + 1)\n",
        "\n",
        "# Let's display the sign-up rate per experiment day\n",
        "f, ax = plt.subplots(figsize=(10, 6))\n",
        "# Generate plots\n",
        "ax.plot(exp_days, ctrl_avg_sales, label='Control', color='b')\n",
        "ax.plot(exp_days, trt_avg_sales, label='Treatment', color='g')\n",
        "\n",
        "# # Format plot\n",
        "ax.set_xticks(exp_days)\n",
        "ax.set_title('Test Result')\n",
        "ax.set_ylabel('Avg Sales per Day')\n",
        "ax.set_xlabel('Days in the Experiment')\n",
        "ax.legend()\n",
        "plt.show()"
      ],
      "metadata": {
        "colab": {
          "base_uri": "https://localhost:8080/",
          "height": 564
        },
        "id": "PUtUiuTskipv",
        "outputId": "4d287424-ca3b-42eb-9375-76831d84e144"
      },
      "execution_count": null,
      "outputs": [
        {
          "output_type": "display_data",
          "data": {
            "text/plain": [
              "<Figure size 1000x600 with 1 Axes>"
            ],
            "image/png": "[encoded data removed]"
          },
          "metadata": {}
        }
      ]
    },
    {
      "cell_type": "markdown",
      "source": [
        "# **Part VIII: Conduct Statistical Inference**"
      ],
      "metadata": {
        "id": "Y5IHT4lcj4B8"
      }
    },
    {
      "cell_type": "code",
      "source": [
        "# Set the ALPHA for the AB test\n",
        "AB_ALPHA = 0.05\n",
        "\n",
        "# Grab the control and treatment avg_sales_per_user in the AB test\n",
        "AB_control = test_result[test_result.GROUP == 0].groupby('USER_ID')['SALES'].mean()\n",
        "AB_treatment = test_result[test_result.GROUP == 1].groupby('USER_ID')['SALES'].mean()\n",
        "print(AB_control.head())\n",
        "print(AB_treatment.head())\n",
        "\n",
        "# Analyze Statistics\n",
        "AB_tstat, AB_pvalue, AB_df = ttest_ind(AB_control, AB_treatment) #two arrays\n",
        "\n",
        "# Print results\n",
        "print('Ho: The avg. sales per user between test and control are the same.')\n",
        "print('Ha: The avg. sales per user between test and control are different.\\n')\n",
        "print(f'Significance level: {AB_ALPHA}')\n",
        "\n",
        "print(f'T-Statistic = {AB_tstat:.3f} | P-value = {AB_pvalue:.3f}')\n",
        "\n",
        "print('\\nConclusion:')\n",
        "if AB_pvalue < AB_ALPHA:\n",
        " print('Reject Ho and conclude that there is statistical significance in the difference of avg. sales per user between test and green control.')\n",
        "else:\n",
        "  print('Fail to reject Ho.')"
      ],
      "metadata": {
        "colab": {
          "base_uri": "https://localhost:8080/"
        },
        "id": "u9u_QFC4j3eg",
        "outputId": "44869196-b2c4-4b21-a8d5-82407bfec30a"
      },
      "execution_count": null,
      "outputs": [
        {
          "output_type": "stream",
          "name": "stdout",
          "text": [
            "USER_ID\n",
            "15    6.07\n",
            "34    4.42\n",
            "63    2.90\n",
            "67    9.57\n",
            "70    7.32\n",
            "Name: SALES, dtype: float64\n",
            "USER_ID\n",
            "18     4.19\n",
            "19    10.52\n",
            "40    11.59\n",
            "54     9.63\n",
            "57     9.30\n",
            "Name: SALES, dtype: float64\n",
            "Ho: The avg. sales per user between test and control are the same.\n",
            "Ha: The avg. sales per user between test and control are different.\n",
            "\n",
            "Significance level: 0.05\n",
            "T-Statistic = -49.198 | P-value = 0.000\n",
            "\n",
            "Conclusion:\n",
            "Reject Ho and conclude that there is statistical significance in the difference of avg. sales per user between test and green control.\n"
          ]
        }
      ]
    },
    {
      "cell_type": "code",
      "source": [
        "# Get stats\n",
        "AB_control_sales = AB_control.sum()\n",
        "AB_treatment_sales = AB_treatment.sum()\n",
        "AB_control_avgsales = AB_control.mean()\n",
        "AB_treatment_avgsales = AB_treatment.mean()\n",
        "AB_control_size = AB_control.count()\n",
        "AB_treatment_size = AB_treatment.count()"
      ],
      "metadata": {
        "id": "XHoPCc6md4DX"
      },
      "execution_count": null,
      "outputs": []
    },
    {
      "cell_type": "code",
      "source": [
        "#Use the following library\n",
        "#import numpy as np\n",
        "#import statsmodels.api as sm\n",
        "#import statsmodels.stats.api as sms\n",
        "\n",
        "# Create two descriptive statistics objects using test and control data\n",
        "desc_stats_test = sm.stats.DescrStatsW(AB_treatment)\n",
        "desc_stats_control = sm.stats.DescrStatsW(AB_control)\n",
        "\n",
        "# Compare the means of the two datasets\n",
        "cm = sms.CompareMeans(desc_stats_test, desc_stats_control)\n",
        "\n",
        "# Calculate the confidence interval for the difference between the means (using unequal variances)\n",
        "lb, ub = cm.tconfint_diff(usevar='unequal')\n",
        "#usevarstr, ‘pooled’ or ‘unequal’\n",
        "#If pooled, then the standard deviation of the samples is assumed to be the same. If unequal, then Welch ttest with Satterthwait degrees of freedom is used\n",
        "\n",
        "print(f\"Confidence Interval (absolute difference): ({lb}, {ub})\")\n",
        "\n",
        "# Calculate lift between test and control\n",
        "lower_lift = lb / AB_control_avgsales\n",
        "upper_lift = ub / AB_control_avgsales\n",
        "\n",
        "print(f\"Confidence Interval for lift: ({lower_lift*100:.1f}%, {upper_lift*100:.1f}%)\")"
      ],
      "metadata": {
        "colab": {
          "base_uri": "https://localhost:8080/"
        },
        "id": "VrifToSyiibY",
        "outputId": "b5319083-30bd-43b9-fae5-cd3a10ef3f11"
      },
      "execution_count": null,
      "outputs": [
        {
          "output_type": "stream",
          "name": "stdout",
          "text": [
            "Confidence Interval (absolute difference): (2.0000119489531616, 2.1659828775954773)\n",
            "Confidence Interval for lift: (40.3%, 43.7%)\n"
          ]
        }
      ]
    },
    {
      "cell_type": "code",
      "source": [
        "# Print results\n",
        "print('--------- Sample Sizes ----------')\n",
        "print(f'Control: {AB_control_size}')\n",
        "print(f'Treatment: {AB_treatment_size}')\n",
        "\n",
        "print('\\n--------- Group Stats ----------')\n",
        "print(f'Treatment: {AB_treatment_avgsales:.4f}')\n",
        "print(f'Control: {AB_control_avgsales:.4f}')\n",
        "\n",
        "print('\\n--------- Differences ----------')\n",
        "print(f'Absolute: {AB_treatment_avgsales - AB_control_avgsales:.4f}')\n",
        "print(f'Relative (lift): {(AB_treatment_avgsales - AB_control_avgsales) / AB_control_avgsales*100:.1f}%')\n",
        "\n",
        "print('\\n--------- T-Stats ----------')\n",
        "print(f'Test Statistic: {AB_tstat:3f}')\n",
        "print(f'P-Value: {AB_pvalue:.5f}')\n",
        "\n",
        "print('\\n--------- Confidence Intervals ----------')\n",
        "print(f'Absolute Difference CI: ({lb:.3f}, {ub:.3f})')\n",
        "print(f'Relative Difference (lift) CI: ({lower_lift*100:.1f}%, {upper_lift*100:.1f}%)')"
      ],
      "metadata": {
        "colab": {
          "base_uri": "https://localhost:8080/"
        },
        "id": "IOCWMzlAfWCK",
        "outputId": "a0d27233-06c2-458c-f907-3e3ecc9a41a5"
      },
      "execution_count": null,
      "outputs": [
        {
          "output_type": "stream",
          "name": "stdout",
          "text": [
            "--------- Sample Sizes ----------\n",
            "Control: 9240\n",
            "Treatment: 9366\n",
            "\n",
            "--------- Group Stats ----------\n",
            "Treatment: 7.0422\n",
            "Control: 4.9592\n",
            "\n",
            "--------- Differences ----------\n",
            "Absolute: 2.0830\n",
            "Relative (lift): 42.0%\n",
            "\n",
            "--------- T-Stats ----------\n",
            "Test Statistic: -49.198050\n",
            "P-Value: 0.00000\n",
            "\n",
            "--------- Confidence Intervals ----------\n",
            "Absolute Difference CI: (2.000, 2.166)\n",
            "Relative Difference (lift) CI: (40.3%, 43.7%)\n"
          ]
        }
      ]
    },
    {
      "cell_type": "markdown",
      "source": [
        "Based on the test results, we noted a substantial 42% increase in performance compared to the control group. These results were statistically significant, as indicated by a 95% confidence interval ranging from 40.3% to 43.7%. It's noteworthy that the lower boundary of this confidence interval exceeds the Minimum Detectable Effect (MDE) of 5%.\n",
        "\n",
        "With the combined evidence of both practical and statistical significance, our recommendation is to proceed with the implementation of the new search algorithm."
      ],
      "metadata": {
        "id": "SiCPhhs3kYy_"
      }
    }
  ]
}